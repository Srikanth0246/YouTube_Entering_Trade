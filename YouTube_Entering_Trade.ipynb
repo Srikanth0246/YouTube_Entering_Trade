{
  "nbformat": 4,
  "nbformat_minor": 0,
  "metadata": {
    "colab": {
      "provenance": []
    },
    "kernelspec": {
      "name": "python3",
      "display_name": "Python 3"
    },
    "language_info": {
      "name": "python"
    }
  },
  "cells": [
    {
      "cell_type": "code",
      "execution_count": 5,
      "metadata": {
        "colab": {
          "base_uri": "https://localhost:8080/"
        },
        "id": "GQbrroI8hMT3",
        "outputId": "b99c5e37-7eea-468a-f506-3ae5269e279a"
      },
      "outputs": [
        {
          "output_type": "stream",
          "name": "stdout",
          "text": [
            "Enter the video title: https://youtu.be/yTe3wp8ueuA\n",
            "Creating trading algorithm based on video: https://youtu.be/yTe3wp8ueuA\n",
            "Recommended entry price: 100\n",
            "Recommended exit price: 120\n"
          ]
        }
      ],
      "source": [
        "import os\n",
        "import googleapiclient.discovery\n",
        "\n",
        "youtube_api_key = os.getenv(\"YOUTUBE_API_KEY\")\n",
        "youtube = googleapiclient.discovery.build(\"youtube\", \"v3\", developerKey=youtube_api_key)\n",
        "\n",
        "def extract_video_title(link):\n",
        "    video_id = link.split(\"/\")[-1]\n",
        "    response = youtube.videos().list(part=\"snippet\", id=video_id).execute()\n",
        "    items = response.get(\"items\", [])\n",
        "    if items:\n",
        "        title = items[0][\"snippet\"][\"title\"]\n",
        "        return title\n",
        "    else:\n",
        "        return None\n",
        "\n",
        "def create_trading_algorithm(video_title):\n",
        "    if video_title is not None:\n",
        "        print(f\"Creating trading algorithm based on video: {video_title}\")\n",
        "\n",
        "        def identify_entry_price():\n",
        "            entry_price = 100\n",
        "            return entry_price\n",
        "\n",
        "        def identify_exit_price():\n",
        "            exit_price = 120\n",
        "            return exit_price\n",
        "\n",
        "        entry = identify_entry_price()\n",
        "        exit = identify_exit_price()\n",
        "\n",
        "        print(\"Recommended entry price:\", entry)\n",
        "        print(\"Recommended exit price:\", exit)\n",
        "\n",
        "    else:\n",
        "        print(\"Invalid video title.\")\n",
        "\n",
        "video_title = input(\"Enter the video title: \")\n",
        "create_trading_algorithm(video_title)\n",
        "\n"
      ]
    }
  ]
}